{
 "cells": [
  {
   "cell_type": "markdown",
   "id": "633ba94e",
   "metadata": {},
   "source": [
    "importing libraries"
   ]
  },
  {
   "cell_type": "code",
   "execution_count": 1,
   "id": "7fd5b1e8",
   "metadata": {},
   "outputs": [],
   "source": [
    "import pandas as pd\n",
    "import numpy as np\n",
    "import matplotlib.pyplot as plt\n",
    "import seaborn as sns\n",
    "\n",
    "from sklearn.preprocessing import StandardScaler\n",
    "\n",
    "from sklearn.model_selection import train_test_split, GridSearchCV\n",
    "\n",
    "from sklearn.metrics import accuracy_score, confusion_matrix, classification_report\n",
    "from sklearn.metrics import roc_curve, roc_auc_score\n",
    "\n",
    "import warnings\n",
    "warnings.filterwarnings('ignore')\n",
    "%matplotlib inline"
   ]
  },
  {
   "cell_type": "code",
   "execution_count": 2,
   "id": "995c1d1c",
   "metadata": {},
   "outputs": [],
   "source": [
    "df = pd.read_csv(\"https://raw.githubusercontent.com/wri/global-power-plant-database/master/source_databases_csv/database_IND.csv\")"
   ]
  },
  {
   "cell_type": "markdown",
   "id": "42180242",
   "metadata": {},
   "source": [
    "reading the data"
   ]
  },
  {
   "cell_type": "code",
   "execution_count": 3,
   "id": "dd364119",
   "metadata": {},
   "outputs": [
    {
     "data": {
      "text/html": [
       "<div>\n",
       "<style scoped>\n",
       "    .dataframe tbody tr th:only-of-type {\n",
       "        vertical-align: middle;\n",
       "    }\n",
       "\n",
       "    .dataframe tbody tr th {\n",
       "        vertical-align: top;\n",
       "    }\n",
       "\n",
       "    .dataframe thead th {\n",
       "        text-align: right;\n",
       "    }\n",
       "</style>\n",
       "<table border=\"1\" class=\"dataframe\">\n",
       "  <thead>\n",
       "    <tr style=\"text-align: right;\">\n",
       "      <th></th>\n",
       "      <th>country</th>\n",
       "      <th>country_long</th>\n",
       "      <th>name</th>\n",
       "      <th>gppd_idnr</th>\n",
       "      <th>capacity_mw</th>\n",
       "      <th>latitude</th>\n",
       "      <th>longitude</th>\n",
       "      <th>primary_fuel</th>\n",
       "      <th>other_fuel1</th>\n",
       "      <th>other_fuel2</th>\n",
       "      <th>...</th>\n",
       "      <th>year_of_capacity_data</th>\n",
       "      <th>generation_gwh_2013</th>\n",
       "      <th>generation_gwh_2014</th>\n",
       "      <th>generation_gwh_2015</th>\n",
       "      <th>generation_gwh_2016</th>\n",
       "      <th>generation_gwh_2017</th>\n",
       "      <th>generation_gwh_2018</th>\n",
       "      <th>generation_gwh_2019</th>\n",
       "      <th>generation_data_source</th>\n",
       "      <th>estimated_generation_gwh</th>\n",
       "    </tr>\n",
       "  </thead>\n",
       "  <tbody>\n",
       "    <tr>\n",
       "      <th>0</th>\n",
       "      <td>IND</td>\n",
       "      <td>India</td>\n",
       "      <td>ACME Solar Tower</td>\n",
       "      <td>WRI1020239</td>\n",
       "      <td>2.5</td>\n",
       "      <td>28.1839</td>\n",
       "      <td>73.2407</td>\n",
       "      <td>Solar</td>\n",
       "      <td>NaN</td>\n",
       "      <td>NaN</td>\n",
       "      <td>...</td>\n",
       "      <td>NaN</td>\n",
       "      <td>NaN</td>\n",
       "      <td>NaN</td>\n",
       "      <td>NaN</td>\n",
       "      <td>NaN</td>\n",
       "      <td>NaN</td>\n",
       "      <td>NaN</td>\n",
       "      <td>NaN</td>\n",
       "      <td>NaN</td>\n",
       "      <td>NaN</td>\n",
       "    </tr>\n",
       "    <tr>\n",
       "      <th>1</th>\n",
       "      <td>IND</td>\n",
       "      <td>India</td>\n",
       "      <td>ADITYA CEMENT WORKS</td>\n",
       "      <td>WRI1019881</td>\n",
       "      <td>98.0</td>\n",
       "      <td>24.7663</td>\n",
       "      <td>74.6090</td>\n",
       "      <td>Coal</td>\n",
       "      <td>NaN</td>\n",
       "      <td>NaN</td>\n",
       "      <td>...</td>\n",
       "      <td>NaN</td>\n",
       "      <td>NaN</td>\n",
       "      <td>NaN</td>\n",
       "      <td>NaN</td>\n",
       "      <td>NaN</td>\n",
       "      <td>NaN</td>\n",
       "      <td>NaN</td>\n",
       "      <td>NaN</td>\n",
       "      <td>NaN</td>\n",
       "      <td>NaN</td>\n",
       "    </tr>\n",
       "    <tr>\n",
       "      <th>2</th>\n",
       "      <td>IND</td>\n",
       "      <td>India</td>\n",
       "      <td>AES Saurashtra Windfarms</td>\n",
       "      <td>WRI1026669</td>\n",
       "      <td>39.2</td>\n",
       "      <td>21.9038</td>\n",
       "      <td>69.3732</td>\n",
       "      <td>Wind</td>\n",
       "      <td>NaN</td>\n",
       "      <td>NaN</td>\n",
       "      <td>...</td>\n",
       "      <td>NaN</td>\n",
       "      <td>NaN</td>\n",
       "      <td>NaN</td>\n",
       "      <td>NaN</td>\n",
       "      <td>NaN</td>\n",
       "      <td>NaN</td>\n",
       "      <td>NaN</td>\n",
       "      <td>NaN</td>\n",
       "      <td>NaN</td>\n",
       "      <td>NaN</td>\n",
       "    </tr>\n",
       "    <tr>\n",
       "      <th>3</th>\n",
       "      <td>IND</td>\n",
       "      <td>India</td>\n",
       "      <td>AGARTALA GT</td>\n",
       "      <td>IND0000001</td>\n",
       "      <td>135.0</td>\n",
       "      <td>23.8712</td>\n",
       "      <td>91.3602</td>\n",
       "      <td>Gas</td>\n",
       "      <td>NaN</td>\n",
       "      <td>NaN</td>\n",
       "      <td>...</td>\n",
       "      <td>2019.0</td>\n",
       "      <td>NaN</td>\n",
       "      <td>617.789264</td>\n",
       "      <td>843.747000</td>\n",
       "      <td>886.004428</td>\n",
       "      <td>663.774500</td>\n",
       "      <td>626.239128</td>\n",
       "      <td>NaN</td>\n",
       "      <td>Central Electricity Authority</td>\n",
       "      <td>NaN</td>\n",
       "    </tr>\n",
       "    <tr>\n",
       "      <th>4</th>\n",
       "      <td>IND</td>\n",
       "      <td>India</td>\n",
       "      <td>AKALTARA TPP</td>\n",
       "      <td>IND0000002</td>\n",
       "      <td>1800.0</td>\n",
       "      <td>21.9603</td>\n",
       "      <td>82.4091</td>\n",
       "      <td>Coal</td>\n",
       "      <td>Oil</td>\n",
       "      <td>NaN</td>\n",
       "      <td>...</td>\n",
       "      <td>2019.0</td>\n",
       "      <td>NaN</td>\n",
       "      <td>3035.550000</td>\n",
       "      <td>5916.370000</td>\n",
       "      <td>6243.000000</td>\n",
       "      <td>5385.579736</td>\n",
       "      <td>7279.000000</td>\n",
       "      <td>NaN</td>\n",
       "      <td>Central Electricity Authority</td>\n",
       "      <td>NaN</td>\n",
       "    </tr>\n",
       "    <tr>\n",
       "      <th>...</th>\n",
       "      <td>...</td>\n",
       "      <td>...</td>\n",
       "      <td>...</td>\n",
       "      <td>...</td>\n",
       "      <td>...</td>\n",
       "      <td>...</td>\n",
       "      <td>...</td>\n",
       "      <td>...</td>\n",
       "      <td>...</td>\n",
       "      <td>...</td>\n",
       "      <td>...</td>\n",
       "      <td>...</td>\n",
       "      <td>...</td>\n",
       "      <td>...</td>\n",
       "      <td>...</td>\n",
       "      <td>...</td>\n",
       "      <td>...</td>\n",
       "      <td>...</td>\n",
       "      <td>...</td>\n",
       "      <td>...</td>\n",
       "      <td>...</td>\n",
       "    </tr>\n",
       "    <tr>\n",
       "      <th>902</th>\n",
       "      <td>IND</td>\n",
       "      <td>India</td>\n",
       "      <td>YERMARUS TPP</td>\n",
       "      <td>IND0000513</td>\n",
       "      <td>1600.0</td>\n",
       "      <td>16.2949</td>\n",
       "      <td>77.3568</td>\n",
       "      <td>Coal</td>\n",
       "      <td>Oil</td>\n",
       "      <td>NaN</td>\n",
       "      <td>...</td>\n",
       "      <td>2019.0</td>\n",
       "      <td>NaN</td>\n",
       "      <td>NaN</td>\n",
       "      <td>0.994875</td>\n",
       "      <td>233.596650</td>\n",
       "      <td>865.400000</td>\n",
       "      <td>686.500000</td>\n",
       "      <td>NaN</td>\n",
       "      <td>Central Electricity Authority</td>\n",
       "      <td>NaN</td>\n",
       "    </tr>\n",
       "    <tr>\n",
       "      <th>903</th>\n",
       "      <td>IND</td>\n",
       "      <td>India</td>\n",
       "      <td>Yelesandra Solar Power Plant</td>\n",
       "      <td>WRI1026222</td>\n",
       "      <td>3.0</td>\n",
       "      <td>12.8932</td>\n",
       "      <td>78.1654</td>\n",
       "      <td>Solar</td>\n",
       "      <td>NaN</td>\n",
       "      <td>NaN</td>\n",
       "      <td>...</td>\n",
       "      <td>NaN</td>\n",
       "      <td>NaN</td>\n",
       "      <td>NaN</td>\n",
       "      <td>NaN</td>\n",
       "      <td>NaN</td>\n",
       "      <td>NaN</td>\n",
       "      <td>NaN</td>\n",
       "      <td>NaN</td>\n",
       "      <td>NaN</td>\n",
       "      <td>NaN</td>\n",
       "    </tr>\n",
       "    <tr>\n",
       "      <th>904</th>\n",
       "      <td>IND</td>\n",
       "      <td>India</td>\n",
       "      <td>Yelisirur wind power project</td>\n",
       "      <td>WRI1026776</td>\n",
       "      <td>25.5</td>\n",
       "      <td>15.2758</td>\n",
       "      <td>75.5811</td>\n",
       "      <td>Wind</td>\n",
       "      <td>NaN</td>\n",
       "      <td>NaN</td>\n",
       "      <td>...</td>\n",
       "      <td>NaN</td>\n",
       "      <td>NaN</td>\n",
       "      <td>NaN</td>\n",
       "      <td>NaN</td>\n",
       "      <td>NaN</td>\n",
       "      <td>NaN</td>\n",
       "      <td>NaN</td>\n",
       "      <td>NaN</td>\n",
       "      <td>NaN</td>\n",
       "      <td>NaN</td>\n",
       "    </tr>\n",
       "    <tr>\n",
       "      <th>905</th>\n",
       "      <td>IND</td>\n",
       "      <td>India</td>\n",
       "      <td>ZAWAR MINES</td>\n",
       "      <td>WRI1019901</td>\n",
       "      <td>80.0</td>\n",
       "      <td>24.3500</td>\n",
       "      <td>73.7477</td>\n",
       "      <td>Coal</td>\n",
       "      <td>NaN</td>\n",
       "      <td>NaN</td>\n",
       "      <td>...</td>\n",
       "      <td>NaN</td>\n",
       "      <td>NaN</td>\n",
       "      <td>NaN</td>\n",
       "      <td>NaN</td>\n",
       "      <td>NaN</td>\n",
       "      <td>NaN</td>\n",
       "      <td>NaN</td>\n",
       "      <td>NaN</td>\n",
       "      <td>NaN</td>\n",
       "      <td>NaN</td>\n",
       "    </tr>\n",
       "    <tr>\n",
       "      <th>906</th>\n",
       "      <td>IND</td>\n",
       "      <td>India</td>\n",
       "      <td>iEnergy Theni Wind Farm</td>\n",
       "      <td>WRI1026761</td>\n",
       "      <td>16.5</td>\n",
       "      <td>9.9344</td>\n",
       "      <td>77.4768</td>\n",
       "      <td>Wind</td>\n",
       "      <td>NaN</td>\n",
       "      <td>NaN</td>\n",
       "      <td>...</td>\n",
       "      <td>NaN</td>\n",
       "      <td>NaN</td>\n",
       "      <td>NaN</td>\n",
       "      <td>NaN</td>\n",
       "      <td>NaN</td>\n",
       "      <td>NaN</td>\n",
       "      <td>NaN</td>\n",
       "      <td>NaN</td>\n",
       "      <td>NaN</td>\n",
       "      <td>NaN</td>\n",
       "    </tr>\n",
       "  </tbody>\n",
       "</table>\n",
       "<p>907 rows × 27 columns</p>\n",
       "</div>"
      ],
      "text/plain": [
       "    country country_long                          name   gppd_idnr  \\\n",
       "0       IND        India              ACME Solar Tower  WRI1020239   \n",
       "1       IND        India           ADITYA CEMENT WORKS  WRI1019881   \n",
       "2       IND        India      AES Saurashtra Windfarms  WRI1026669   \n",
       "3       IND        India                   AGARTALA GT  IND0000001   \n",
       "4       IND        India                  AKALTARA TPP  IND0000002   \n",
       "..      ...          ...                           ...         ...   \n",
       "902     IND        India                  YERMARUS TPP  IND0000513   \n",
       "903     IND        India  Yelesandra Solar Power Plant  WRI1026222   \n",
       "904     IND        India  Yelisirur wind power project  WRI1026776   \n",
       "905     IND        India                   ZAWAR MINES  WRI1019901   \n",
       "906     IND        India       iEnergy Theni Wind Farm  WRI1026761   \n",
       "\n",
       "     capacity_mw  latitude  longitude primary_fuel other_fuel1 other_fuel2  \\\n",
       "0            2.5   28.1839    73.2407        Solar         NaN         NaN   \n",
       "1           98.0   24.7663    74.6090         Coal         NaN         NaN   \n",
       "2           39.2   21.9038    69.3732         Wind         NaN         NaN   \n",
       "3          135.0   23.8712    91.3602          Gas         NaN         NaN   \n",
       "4         1800.0   21.9603    82.4091         Coal         Oil         NaN   \n",
       "..           ...       ...        ...          ...         ...         ...   \n",
       "902       1600.0   16.2949    77.3568         Coal         Oil         NaN   \n",
       "903          3.0   12.8932    78.1654        Solar         NaN         NaN   \n",
       "904         25.5   15.2758    75.5811         Wind         NaN         NaN   \n",
       "905         80.0   24.3500    73.7477         Coal         NaN         NaN   \n",
       "906         16.5    9.9344    77.4768         Wind         NaN         NaN   \n",
       "\n",
       "     ...  year_of_capacity_data  generation_gwh_2013 generation_gwh_2014  \\\n",
       "0    ...                    NaN                  NaN                 NaN   \n",
       "1    ...                    NaN                  NaN                 NaN   \n",
       "2    ...                    NaN                  NaN                 NaN   \n",
       "3    ...                 2019.0                  NaN          617.789264   \n",
       "4    ...                 2019.0                  NaN         3035.550000   \n",
       "..   ...                    ...                  ...                 ...   \n",
       "902  ...                 2019.0                  NaN                 NaN   \n",
       "903  ...                    NaN                  NaN                 NaN   \n",
       "904  ...                    NaN                  NaN                 NaN   \n",
       "905  ...                    NaN                  NaN                 NaN   \n",
       "906  ...                    NaN                  NaN                 NaN   \n",
       "\n",
       "    generation_gwh_2015 generation_gwh_2016 generation_gwh_2017  \\\n",
       "0                   NaN                 NaN                 NaN   \n",
       "1                   NaN                 NaN                 NaN   \n",
       "2                   NaN                 NaN                 NaN   \n",
       "3            843.747000          886.004428          663.774500   \n",
       "4           5916.370000         6243.000000         5385.579736   \n",
       "..                  ...                 ...                 ...   \n",
       "902            0.994875          233.596650          865.400000   \n",
       "903                 NaN                 NaN                 NaN   \n",
       "904                 NaN                 NaN                 NaN   \n",
       "905                 NaN                 NaN                 NaN   \n",
       "906                 NaN                 NaN                 NaN   \n",
       "\n",
       "     generation_gwh_2018  generation_gwh_2019         generation_data_source  \\\n",
       "0                    NaN                  NaN                            NaN   \n",
       "1                    NaN                  NaN                            NaN   \n",
       "2                    NaN                  NaN                            NaN   \n",
       "3             626.239128                  NaN  Central Electricity Authority   \n",
       "4            7279.000000                  NaN  Central Electricity Authority   \n",
       "..                   ...                  ...                            ...   \n",
       "902           686.500000                  NaN  Central Electricity Authority   \n",
       "903                  NaN                  NaN                            NaN   \n",
       "904                  NaN                  NaN                            NaN   \n",
       "905                  NaN                  NaN                            NaN   \n",
       "906                  NaN                  NaN                            NaN   \n",
       "\n",
       "     estimated_generation_gwh  \n",
       "0                         NaN  \n",
       "1                         NaN  \n",
       "2                         NaN  \n",
       "3                         NaN  \n",
       "4                         NaN  \n",
       "..                        ...  \n",
       "902                       NaN  \n",
       "903                       NaN  \n",
       "904                       NaN  \n",
       "905                       NaN  \n",
       "906                       NaN  \n",
       "\n",
       "[907 rows x 27 columns]"
      ]
     },
     "execution_count": 3,
     "metadata": {},
     "output_type": "execute_result"
    }
   ],
   "source": [
    "df"
   ]
  },
  {
   "cell_type": "code",
   "execution_count": 4,
   "id": "ccdf487e",
   "metadata": {},
   "outputs": [
    {
     "data": {
      "text/plain": [
       "(907, 27)"
      ]
     },
     "execution_count": 4,
     "metadata": {},
     "output_type": "execute_result"
    }
   ],
   "source": [
    "df.shape "
   ]
  },
  {
   "cell_type": "markdown",
   "id": "0cbc26c3",
   "metadata": {},
   "source": [
    "Checking the shape of the dataset\n",
    "per the observation there are 907 rows and 27 coloumns including two target variables capacity_mw and primary_fuel(Fuel_Type) where we need to predict both capacity_mw and Fuel Type"
   ]
  },
  {
   "cell_type": "code",
   "execution_count": 6,
   "id": "ccbdbb18",
   "metadata": {},
   "outputs": [
    {
     "data": {
      "text/plain": [
       "Index(['country', 'country_long', 'name', 'gppd_idnr', 'capacity_mw',\n",
       "       'latitude', 'longitude', 'primary_fuel', 'other_fuel1', 'other_fuel2',\n",
       "       'other_fuel3', 'commissioning_year', 'owner', 'source', 'url',\n",
       "       'geolocation_source', 'wepp_id', 'year_of_capacity_data',\n",
       "       'generation_gwh_2013', 'generation_gwh_2014', 'generation_gwh_2015',\n",
       "       'generation_gwh_2016', 'generation_gwh_2017', 'generation_gwh_2018',\n",
       "       'generation_gwh_2019', 'generation_data_source',\n",
       "       'estimated_generation_gwh'],\n",
       "      dtype='object')"
      ]
     },
     "execution_count": 6,
     "metadata": {},
     "output_type": "execute_result"
    }
   ],
   "source": [
    "df.columns"
   ]
  },
  {
   "cell_type": "markdown",
   "id": "2569cf8d",
   "metadata": {},
   "source": [
    "Checking the list of columns in our data"
   ]
  },
  {
   "cell_type": "code",
   "execution_count": 7,
   "id": "46ba4efd",
   "metadata": {},
   "outputs": [
    {
     "name": "stdout",
     "output_type": "stream",
     "text": [
      "<class 'pandas.core.frame.DataFrame'>\n",
      "RangeIndex: 907 entries, 0 to 906\n",
      "Data columns (total 27 columns):\n",
      " #   Column                    Non-Null Count  Dtype  \n",
      "---  ------                    --------------  -----  \n",
      " 0   country                   907 non-null    object \n",
      " 1   country_long              907 non-null    object \n",
      " 2   name                      907 non-null    object \n",
      " 3   gppd_idnr                 907 non-null    object \n",
      " 4   capacity_mw               907 non-null    float64\n",
      " 5   latitude                  861 non-null    float64\n",
      " 6   longitude                 861 non-null    float64\n",
      " 7   primary_fuel              907 non-null    object \n",
      " 8   other_fuel1               198 non-null    object \n",
      " 9   other_fuel2               1 non-null      object \n",
      " 10  other_fuel3               0 non-null      float64\n",
      " 11  commissioning_year        527 non-null    float64\n",
      " 12  owner                     342 non-null    object \n",
      " 13  source                    907 non-null    object \n",
      " 14  url                       907 non-null    object \n",
      " 15  geolocation_source        888 non-null    object \n",
      " 16  wepp_id                   0 non-null      float64\n",
      " 17  year_of_capacity_data     519 non-null    float64\n",
      " 18  generation_gwh_2013       0 non-null      float64\n",
      " 19  generation_gwh_2014       398 non-null    float64\n",
      " 20  generation_gwh_2015       422 non-null    float64\n",
      " 21  generation_gwh_2016       434 non-null    float64\n",
      " 22  generation_gwh_2017       440 non-null    float64\n",
      " 23  generation_gwh_2018       448 non-null    float64\n",
      " 24  generation_gwh_2019       0 non-null      float64\n",
      " 25  generation_data_source    449 non-null    object \n",
      " 26  estimated_generation_gwh  0 non-null      float64\n",
      "dtypes: float64(15), object(12)\n",
      "memory usage: 191.4+ KB\n"
     ]
    }
   ],
   "source": [
    "df.info()"
   ]
  },
  {
   "cell_type": "markdown",
   "id": "105a0536",
   "metadata": {},
   "source": [
    "Checking the info about data\n",
    "per observation data is define in 2 datatypes i.e float,object"
   ]
  },
  {
   "cell_type": "markdown",
   "id": "65ea81e1",
   "metadata": {},
   "source": [
    "Checking the datatyes in our dataset"
   ]
  },
  {
   "cell_type": "code",
   "execution_count": 8,
   "id": "c1d73606",
   "metadata": {},
   "outputs": [
    {
     "data": {
      "text/plain": [
       "country                      object\n",
       "country_long                 object\n",
       "name                         object\n",
       "gppd_idnr                    object\n",
       "capacity_mw                 float64\n",
       "latitude                    float64\n",
       "longitude                   float64\n",
       "primary_fuel                 object\n",
       "other_fuel1                  object\n",
       "other_fuel2                  object\n",
       "other_fuel3                 float64\n",
       "commissioning_year          float64\n",
       "owner                        object\n",
       "source                       object\n",
       "url                          object\n",
       "geolocation_source           object\n",
       "wepp_id                     float64\n",
       "year_of_capacity_data       float64\n",
       "generation_gwh_2013         float64\n",
       "generation_gwh_2014         float64\n",
       "generation_gwh_2015         float64\n",
       "generation_gwh_2016         float64\n",
       "generation_gwh_2017         float64\n",
       "generation_gwh_2018         float64\n",
       "generation_gwh_2019         float64\n",
       "generation_data_source       object\n",
       "estimated_generation_gwh    float64\n",
       "dtype: object"
      ]
     },
     "execution_count": 8,
     "metadata": {},
     "output_type": "execute_result"
    }
   ],
   "source": [
    "df.dtypes"
   ]
  },
  {
   "cell_type": "markdown",
   "id": "98aef0b6",
   "metadata": {},
   "source": [
    "There are 12 object data types and 14 numerical data types"
   ]
  },
  {
   "cell_type": "markdown",
   "id": "6e90cb27",
   "metadata": {},
   "source": [
    "(EDA)Exploratory Data Analysis"
   ]
  },
  {
   "cell_type": "markdown",
   "id": "4324a4f5",
   "metadata": {},
   "source": [
    "Checking the null values "
   ]
  },
  {
   "cell_type": "code",
   "execution_count": 9,
   "id": "a11846f9",
   "metadata": {},
   "outputs": [
    {
     "data": {
      "text/plain": [
       "country                       0\n",
       "country_long                  0\n",
       "name                          0\n",
       "gppd_idnr                     0\n",
       "capacity_mw                   0\n",
       "latitude                     46\n",
       "longitude                    46\n",
       "primary_fuel                  0\n",
       "other_fuel1                 709\n",
       "other_fuel2                 906\n",
       "other_fuel3                 907\n",
       "commissioning_year          380\n",
       "owner                       565\n",
       "source                        0\n",
       "url                           0\n",
       "geolocation_source           19\n",
       "wepp_id                     907\n",
       "year_of_capacity_data       388\n",
       "generation_gwh_2013         907\n",
       "generation_gwh_2014         509\n",
       "generation_gwh_2015         485\n",
       "generation_gwh_2016         473\n",
       "generation_gwh_2017         467\n",
       "generation_gwh_2018         459\n",
       "generation_gwh_2019         907\n",
       "generation_data_source      458\n",
       "estimated_generation_gwh    907\n",
       "dtype: int64"
      ]
     },
     "execution_count": 9,
     "metadata": {},
     "output_type": "execute_result"
    }
   ],
   "source": [
    "df.isnull().sum()"
   ]
  },
  {
   "cell_type": "markdown",
   "id": "e66a6ad7",
   "metadata": {},
   "source": [
    "As per the above observation there are no null values"
   ]
  },
  {
   "cell_type": "markdown",
   "id": "057f10db",
   "metadata": {},
   "source": [
    "Checking the unique values in dataset"
   ]
  },
  {
   "cell_type": "code",
   "execution_count": 10,
   "id": "b981ee2c",
   "metadata": {},
   "outputs": [
    {
     "data": {
      "text/plain": [
       "country                       1\n",
       "country_long                  1\n",
       "name                        907\n",
       "gppd_idnr                   907\n",
       "capacity_mw                 361\n",
       "latitude                    836\n",
       "longitude                   827\n",
       "primary_fuel                  8\n",
       "other_fuel1                   3\n",
       "other_fuel2                   1\n",
       "other_fuel3                   0\n",
       "commissioning_year           73\n",
       "owner                       280\n",
       "source                      191\n",
       "url                         304\n",
       "geolocation_source            3\n",
       "wepp_id                       0\n",
       "year_of_capacity_data         1\n",
       "generation_gwh_2013           0\n",
       "generation_gwh_2014         371\n",
       "generation_gwh_2015         396\n",
       "generation_gwh_2016         403\n",
       "generation_gwh_2017         408\n",
       "generation_gwh_2018         410\n",
       "generation_gwh_2019           0\n",
       "generation_data_source        1\n",
       "estimated_generation_gwh      0\n",
       "dtype: int64"
      ]
     },
     "execution_count": 10,
     "metadata": {},
     "output_type": "execute_result"
    }
   ],
   "source": [
    "df.nunique()"
   ]
  },
  {
   "cell_type": "markdown",
   "id": "b8aeca05",
   "metadata": {},
   "source": [
    "The coloumns with No Values other_fuel, weep_id, generation_gwh_2019, estimated_generation_gwh,we need to delete these coloumns\n",
    "similarly columns with only sigle unique values country, country long, other_fuel2,year_of_capacity_data, generation_data_source, so we will remove it in comimng steps"
   ]
  },
  {
   "cell_type": "markdown",
   "id": "9c1b8b98",
   "metadata": {},
   "source": [
    "Removing country and Country_long containing same value for all coloumns so they are not relavent"
   ]
  },
  {
   "cell_type": "code",
   "execution_count": 12,
   "id": "0effa5a3",
   "metadata": {},
   "outputs": [],
   "source": [
    "df.drop(columns=[\"country\",\"country_long\"],axis=1,inplace=True)"
   ]
  },
  {
   "cell_type": "code",
   "execution_count": 16,
   "id": "77e557a0",
   "metadata": {},
   "outputs": [],
   "source": [
    "df.drop(columns=[\"other_fuel2\", \"year_of_capacity_data\",\"generation_gwh_2013\",\"other_fuel3\",\"wepp_id\",\"generation_gwh_2019\",\"estimated_generation_gwh\"], axis=1, inplace=True)\n"
   ]
  },
  {
   "cell_type": "markdown",
   "id": "a87bdd5c",
   "metadata": {},
   "source": [
    "Checking if all the coloumns are removed"
   ]
  },
  {
   "cell_type": "code",
   "execution_count": 17,
   "id": "f370d46b",
   "metadata": {},
   "outputs": [
    {
     "data": {
      "text/plain": [
       "Index(['name', 'gppd_idnr', 'capacity_mw', 'latitude', 'longitude',\n",
       "       'primary_fuel', 'other_fuel1', 'commissioning_year', 'owner', 'source',\n",
       "       'url', 'geolocation_source', 'generation_gwh_2014',\n",
       "       'generation_gwh_2015', 'generation_gwh_2016', 'generation_gwh_2017',\n",
       "       'generation_gwh_2018', 'generation_data_source'],\n",
       "      dtype='object')"
      ]
     },
     "execution_count": 17,
     "metadata": {},
     "output_type": "execute_result"
    }
   ],
   "source": [
    "df.columns"
   ]
  },
  {
   "cell_type": "markdown",
   "id": "df1faf10",
   "metadata": {},
   "source": [
    "We can remove name as each name of caompany have gppd_indr so we can remove either one"
   ]
  },
  {
   "cell_type": "code",
   "execution_count": 19,
   "id": "085ca48a",
   "metadata": {},
   "outputs": [],
   "source": [
    "df.drop(\"name\",axis=1,inplace=True)"
   ]
  },
  {
   "cell_type": "markdown",
   "id": "99ae6053",
   "metadata": {},
   "source": [
    "Let us check the unique value again "
   ]
  },
  {
   "cell_type": "code",
   "execution_count": 20,
   "id": "1dae4f34",
   "metadata": {},
   "outputs": [
    {
     "data": {
      "text/plain": [
       "gppd_idnr                 907\n",
       "capacity_mw               361\n",
       "latitude                  836\n",
       "longitude                 827\n",
       "primary_fuel                8\n",
       "other_fuel1                 3\n",
       "commissioning_year         73\n",
       "owner                     280\n",
       "source                    191\n",
       "url                       304\n",
       "geolocation_source          3\n",
       "generation_gwh_2014       371\n",
       "generation_gwh_2015       396\n",
       "generation_gwh_2016       403\n",
       "generation_gwh_2017       408\n",
       "generation_gwh_2018       410\n",
       "generation_data_source      1\n",
       "dtype: int64"
      ]
     },
     "execution_count": 20,
     "metadata": {},
     "output_type": "execute_result"
    }
   ],
   "source": [
    "df.nunique()"
   ]
  },
  {
   "cell_type": "markdown",
   "id": "c8345382",
   "metadata": {},
   "source": [
    "checking the value count of generation_data_source'"
   ]
  },
  {
   "cell_type": "code",
   "execution_count": 21,
   "id": "492ea3b1",
   "metadata": {},
   "outputs": [
    {
     "data": {
      "text/plain": [
       "Central Electricity Authority    449\n",
       "Name: generation_data_source, dtype: int64"
      ]
     },
     "execution_count": 21,
     "metadata": {},
     "output_type": "execute_result"
    }
   ],
   "source": [
    "df['generation_data_source'].value_counts()"
   ]
  },
  {
   "cell_type": "markdown",
   "id": "e7de9c79",
   "metadata": {},
   "source": [
    "The columns will not have any effect in our analysis so we are droping generation_data_source and owner column "
   ]
  },
  {
   "cell_type": "code",
   "execution_count": 22,
   "id": "4ddc0fa4",
   "metadata": {},
   "outputs": [],
   "source": [
    "df.drop(\"generation_data_source\",axis=1,inplace=True)"
   ]
  },
  {
   "cell_type": "code",
   "execution_count": 23,
   "id": "a9dd4729",
   "metadata": {},
   "outputs": [],
   "source": [
    "df.drop(\"owner\",axis=1,inplace=True)"
   ]
  },
  {
   "cell_type": "code",
   "execution_count": 25,
   "id": "a44cefde",
   "metadata": {},
   "outputs": [
    {
     "data": {
      "text/plain": [
       "gppd_idnr                0\n",
       "capacity_mw              0\n",
       "latitude                46\n",
       "longitude               46\n",
       "primary_fuel             0\n",
       "other_fuel1            709\n",
       "commissioning_year     380\n",
       "source                   0\n",
       "url                      0\n",
       "geolocation_source      19\n",
       "generation_gwh_2014    509\n",
       "generation_gwh_2015    485\n",
       "generation_gwh_2016    473\n",
       "generation_gwh_2017    467\n",
       "generation_gwh_2018    459\n",
       "dtype: int64"
      ]
     },
     "execution_count": 25,
     "metadata": {},
     "output_type": "execute_result"
    }
   ],
   "source": [
    "#Checking the null values again\n",
    "df.isnull().sum()"
   ]
  },
  {
   "cell_type": "markdown",
   "id": "eb8ca8f2",
   "metadata": {},
   "source": [
    "Other fuel column have huge data missing but it is important for analysis so we need to fill it with imputation techniques"
   ]
  },
  {
   "cell_type": "code",
   "execution_count": 27,
   "id": "e15667db",
   "metadata": {},
   "outputs": [
    {
     "data": {
      "text/plain": [
       "<AxesSubplot:>"
      ]
     },
     "execution_count": 27,
     "metadata": {},
     "output_type": "execute_result"
    },
    {
     "data": {
      "image/png": "[encoded data removed]",
      "text/plain": [
       "<Figure size 640x480 with 2 Axes>"
      ]
     },
     "metadata": {},
     "output_type": "display_data"
    }
   ],
   "source": [
    "sns.heatmap(df.isnull())"
   ]
  },
  {
   "cell_type": "markdown",
   "id": "4d43e030",
   "metadata": {},
   "source": [
    "Removing null values using imputation techniques."
   ]
  },
  {
   "cell_type": "markdown",
   "id": "a41959bb",
   "metadata": {},
   "source": [
    "Most of the columns have missing values except the target variables and the feature source.\n",
    "The columns latitude has numerical data and has no skewness and outliers so we can use mean method to fill the outliers"
   ]
  },
  {
   "cell_type": "markdown",
   "id": "07ffad88",
   "metadata": {},
   "source": [
    "Lets fill the missing values in lattitude using mean"
   ]
  },
  {
   "cell_type": "code",
   "execution_count": 28,
   "id": "d4ee04b8",
   "metadata": {},
   "outputs": [
    {
     "ename": "NameError",
     "evalue": "name 'data' is not defined",
     "output_type": "error",
     "traceback": [
      "\u001b[1;31m---------------------------------------------------------------------------\u001b[0m",
      "\u001b[1;31mNameError\u001b[0m                                 Traceback (most recent call last)",
      "\u001b[1;32m~\\AppData\\Local\\Temp\\ipykernel_6464\\2266472385.py\u001b[0m in \u001b[0;36m<module>\u001b[1;34m\u001b[0m\n\u001b[1;32m----> 1\u001b[1;33m \u001b[0mdata\u001b[0m\u001b[1;33m[\u001b[0m\u001b[1;34m\"latitude\"\u001b[0m\u001b[1;33m]\u001b[0m \u001b[1;33m=\u001b[0m \u001b[0mdata\u001b[0m\u001b[1;33m[\u001b[0m\u001b[1;34m\"latitude\"\u001b[0m\u001b[1;33m]\u001b[0m\u001b[1;33m.\u001b[0m\u001b[0mfillna\u001b[0m\u001b[1;33m(\u001b[0m\u001b[0mdata\u001b[0m\u001b[1;33m[\u001b[0m\u001b[1;34m\"latitude\"\u001b[0m\u001b[1;33m]\u001b[0m\u001b[1;33m.\u001b[0m\u001b[0mmean\u001b[0m\u001b[1;33m(\u001b[0m\u001b[1;33m)\u001b[0m\u001b[1;33m)\u001b[0m\u001b[1;33m\u001b[0m\u001b[1;33m\u001b[0m\u001b[0m\n\u001b[0m",
      "\u001b[1;31mNameError\u001b[0m: name 'data' is not defined"
     ]
    }
   ],
   "source": [
    "df[\"latitude\"] = data[\"latitude\"].fillna(data[\"latitude\"].mean())"
   ]
  },
  {
   "cell_type": "code",
   "execution_count": null,
   "id": "048e8a3d",
   "metadata": {},
   "outputs": [],
   "source": []
  }
 ],
 "metadata": {
  "kernelspec": {
   "display_name": "Python 3 (ipykernel)",
   "language": "python",
   "name": "python3"
  },
  "language_info": {
   "codemirror_mode": {
    "name": "ipython",
    "version": 3
   },
   "file_extension": ".py",
   "mimetype": "text/x-python",
   "name": "python",
   "nbconvert_exporter": "python",
   "pygments_lexer": "ipython3",
   "version": "3.9.13"
  }
 },
 "nbformat": 4,
 "nbformat_minor": 5
}
